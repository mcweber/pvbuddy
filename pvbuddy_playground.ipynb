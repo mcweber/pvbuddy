{
 "cells": [
  {
   "cell_type": "code",
   "execution_count": 1,
   "metadata": {},
   "outputs": [],
   "source": [
    "import os\n",
    "from dotenv import load_dotenv\n",
    "\n",
    "from pymongo import MongoClient\n",
    "from pymongo.errors import DuplicateKeyError\n",
    "\n",
    "# Init MongoDB Client\n",
    "load_dotenv()\n",
    "mongoClient = MongoClient(os.environ.get('MONGO_URI_PRIVAT'))\n",
    "database = mongoClient.law_buddy\n",
    "collection = database.rechtsprechung"
   ]
  },
  {
   "cell_type": "code",
   "execution_count": 12,
   "metadata": {},
   "outputs": [],
   "source": [
    "def text_search(search_text: str = \"*\", gen_suchworte: bool = False, score: float = 0.0, gericht_filter: list = [], limit: int = 10) -> (list, str):\n",
    "    \n",
    "    # define query ------------------------------------------------\n",
    "    if search_text == \"\":\n",
    "        return [], \"\"\n",
    "    if search_text == \"*\":\n",
    "        suchworte = \"*\"\n",
    "        score = 0.0\n",
    "        query = {\n",
    "            \"index\": \"volltext\",\n",
    "            \"exists\": {\"path\": \"xml_text\"},\n",
    "        }\n",
    "    else:\n",
    "        suchworte = generate_query(question=search_text) if gen_suchworte else search_text\n",
    "        query = {\n",
    "            \"index\": \"volltext\",\n",
    "            \"text\": {\n",
    "                \"query\": suchworte,\n",
    "                \"path\": {\"wildcard\": \"*\"}\n",
    "            }\n",
    "        }\n",
    "\n",
    "    # define fields ------------------------------------------------\n",
    "    fields = {\n",
    "        \"_id\": 1,\n",
    "        \"doknr\": 1,\n",
    "        \"gericht\": 1,\n",
    "        \"entsch_datum\": 1,\n",
    "        \"aktenzeichen\": 1,\n",
    "        \"xml_text\": 1,\n",
    "        \"score\": {\"$meta\": \"searchScore\"},\n",
    "    }\n",
    "\n",
    "    # define pipeline ------------------------------------------------\n",
    "    pipeline = [\n",
    "        {\"$search\": query},\n",
    "        {\"$project\": fields},\n",
    "        {\"$match\": {\"score\": {\"$gte\": score}}},\n",
    "        {\"$sort\": {\"entsch_datum\": -1}},\n",
    "        {\"$limit\": limit},\n",
    "    ]\n",
    "\n",
    "    # if filter:\n",
    "    #     pipeline.insert(1, {\"$match\": {\"gericht\": {\"$in\": gericht_filter}}})\n",
    "\n",
    "    # execute query ------------------------------------------------\n",
    "    cursor = collection.aggregate(pipeline)\n",
    "    return list(cursor), suchworte"
   ]
  },
  {
   "cell_type": "code",
   "execution_count": 17,
   "metadata": {},
   "outputs": [
    {
     "name": "stdout",
     "output_type": "stream",
     "text": [
      "Suchworte: 'Abmahnung' 'BAG'\n",
      "Results: 10\n",
      "BAG, 20241024, 2 AZN 608/24\n",
      "BGH, 20241023, I ZR 112/23\n",
      "BAG, 20241021, 8 AZB 10/24\n",
      "BGH, 20241010, I ZR 108/22\n",
      "BGH, 20241008, VI ZR 250/22\n",
      "BGH, 20240926, I ZR 142/23\n",
      "BAG, 20240919, 8 AZR 368/22\n",
      "BGH, 20240918, IV ZR 436/22\n",
      "BGH, 20240917, X ZR 39/23\n",
      "BGH, 20240917, EnZR 57/23\n"
     ]
    }
   ],
   "source": [
    "# such_text = \"Was sagt das BAG zur Abmahnung?\"\n",
    "such_text = \"'Abmahnung' 'BAG'\"\n",
    "# such_text = \"*\"\n",
    "\n",
    "\n",
    "results, suchworte = text_search(\n",
    "    search_text=such_text, \n",
    "    gen_suchworte=False, \n",
    "    score=0.0, \n",
    "    # gericht_filter=[\"BVerwG\"], \n",
    "    limit=10\n",
    "    )\n",
    "\n",
    "print(f\"Suchworte: {suchworte}\")\n",
    "print(f\"Results: {len(results)}\")\n",
    "\n",
    "for item in results:\n",
    "    print(f\"{item['gericht']}, {item['entsch_datum']}, {item['aktenzeichen']}\")\n",
    "  "
   ]
  }
 ],
 "metadata": {
  "kernelspec": {
   "display_name": "myenv",
   "language": "python",
   "name": "python3"
  },
  "language_info": {
   "codemirror_mode": {
    "name": "ipython",
    "version": 3
   },
   "file_extension": ".py",
   "mimetype": "text/x-python",
   "name": "python",
   "nbconvert_exporter": "python",
   "pygments_lexer": "ipython3",
   "version": "3.12.1"
  }
 },
 "nbformat": 4,
 "nbformat_minor": 2
}
